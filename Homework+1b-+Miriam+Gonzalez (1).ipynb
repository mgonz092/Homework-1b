{
 "cells": [
  {
   "cell_type": "markdown",
   "metadata": {},
   "source": [
    "# Homework 1b: Welcome to Jupyter, GitHub\n",
    "Physics 177, Sprin 2018\n",
    "**Due:** Tuesday, April 10\n",
    "\n",
    "Miriam Gonzalez\n",
    "\n",
    "## Introduction\n",
    "\n",
    "You should already have **Python 3** and **Jupyter** installed. Download this worksheet to your computer and open it in Jupyter. \n",
    "\n",
    "*How to do this:* At the command line, run `jupyter notebook` in the folder where you've downloaded this file (`Homework 1b.ipynb`). This will open up the Jupyter interface where you can click on `Homework 1b.ipynb` to start working on this file. Don't forget to *save your progress* as you go along. \n",
    "\n",
    "**Extra reading**: This is all you need to know about the command line (terminal). If you'd like more information, you can learn more here: https://swcarpentry.github.io/shell-novice/. \n",
    "\n",
    "**Grading**: each week homework is 10 points: 3 for the short homework, 7 for the long one."
   ]
  },
  {
   "cell_type": "markdown",
   "metadata": {},
   "source": [
    "## 1. Setting up GitHub (1 pt)\n",
    "\n",
    "Sign up for a [free GitHub account](https://github.com/). The account should be associated with your UCR e-mail address. All work for this course will be completed in Jupyter notebooks and submitted to GitHub.\n",
    "\n",
    "* I strongly suggest that you use a professional username. Your GitHub account is a de-facto resume/CV when you apply for jobs (both academic and industry). \n",
    "* I also suggest uploading a photo to help us learn your names.\n",
    "* While you're at it, you may want to sign up for a GitHub student pack: https://education.github.com/pack\n",
    "\n",
    "\n",
    "##### Username: mgonz092\n",
    "##### Image:\n",
    "![](https://avatars1.githubusercontent.com/u/29679606?s=460&v=4)\n",
    "###### Caption: A picture of me... well, a picture of Orions nebula I took (:\n",
    "\n",
    "\n",
    "\n",
    "\n",
    "\n",
    "## 2. GitHub Classroom (1 pt)\n",
    "\n",
    "While logged into your GitHub account, click on the following link to automatically sign up for our GitHub Classroom: \n",
    "\n",
    "https://classroom.github.com/a/9ccsMoZM\n",
    "\n",
    "This will create a copy of this worksheet as your own GitHub repository and automatically link your GitHub to the course. "
   ]
  },
  {
   "cell_type": "markdown",
   "metadata": {},
   "source": [
    "## 3. Getting used to Markdown (4 pts)\n",
    "\n",
    "Double click on the first cell in this worksheet and fill in your name where it says **Enter your name here**. Evaluate the cell either using the menu: `Cell` > `Run cells` or using the keyboard shortcut `shift + enter`.\n",
    "\n",
    "See how easy that was?\n",
    "\n",
    "Here are a few more tasks:\n",
    "* Single click on this cell. From the menu: `Insert` > `Insert Cell Below`. \n",
    "* Single click on the new cell below and convert it into a **Markdown** cell. There are a few ways to do this, one way is from the menu: `Cell` > `Cell Type` > `Markdown` ... but that's probably the most cumbersome way of doing it!\n",
    "* Give that cell a **subheading** using two hashtags: `## Silly Subheading`\n",
    "* Create a list in the cell using asterisks: `* list item`\n",
    "* Write a sentence with **boldface** and *italics*\n",
    "* Write your favorite simple equation in $\\LaTeX$.\n",
    "* Embed a YouTube trailer for the movie *Hidden Figures*. For this you may want to refer to http://stackoverflow.com/a/27315283.\n",
    "\n",
    "You may not know how to do all of these things! Feel free to use Google to find out how to do them.\n",
    "\n",
    "At this point, you'll probably be happy for a few references for markdown and Jupyter shortcuts. Here are a couple:\n",
    "* https://github.com/adam-p/markdown-here/wiki/Markdown-Cheatsheet\n",
    "* https://www.cheatography.com/weidadeyue/cheat-sheets/jupyter-notebook/\n"
   ]
  },
  {
   "cell_type": "markdown",
   "metadata": {},
   "source": [
    "# Some interesting heading\n",
    "###### Ignore this\n",
    "\n",
    "\n",
    "\n",
    "*This is a random list\n",
    "\n",
    "**This is a sentence in boldface and** _this is a sentence in italics_ and ~~this sentence does not belong here~~\n",
    "\n",
    "# Latex\n",
    "\n",
    "$E=mc^2$\n",
    "\n",
    "###### Here are some random symbols in Latex\n",
    "\n",
    "$\\alpha$\n",
    "\n",
    "$\\int$\n",
    "\n",
    "$\\sum$\n",
    "\n",
    "$\\infty$\n",
    "\n",
    "\n",
    "###### Here are some more equations in Latex\n",
    "$ \\frac{\\hbar}{2m} \\nabla^2 \\Psi(r) + V(r)\\Psi(r)= E\\Psi(r)$\n",
    "\n",
    "$\\iiint\\limits f(x,y,z) dx dy dz$\n",
    "\n",
    "$ F = m \\frac{d^2 x}{d t^2} $\n",
    "\n",
    "$ A_{m,n} = \\begin{pmatrix}\n",
    "a & b & c \\\\\n",
    "c & d & e \\\\\n",
    "f & g & h \n",
    "\\end{pmatrix}$\n",
    "\n",
    "\n",
    "$ A_{m,n} = \\begin{pmatrix}\n",
    "a_{11} & a_{12} & \\cdots & a_{1m} \\\\\n",
    "a_{21} & a_{22} & \\cdots & a_{2m} \\\\\n",
    "\\vdots & \\vdots & \\ddots & \\vdots \\\\\n",
    "a_{m1} & a_{m2} & \\cdots & a_{mn} \n",
    "\\end{pmatrix}$\n",
    "\n",
    "\n",
    "# Here are some great links for python codes\n",
    "[Python Tutorial](https://docs.python.org/3/tutorial/)\n",
    "\n",
    "[Hands on Python](https://anh.cs.luc.edu/python/hands-on/3.1/handsonHtml/index.html)\n",
    "\n",
    "\n",
    "\n",
    "\n"
   ]
  },
  {
   "cell_type": "markdown",
   "metadata": {},
   "source": [
    "## 4. Makeup Classes (1 pt)\n",
    "\n",
    "Prof. Tanedo needs to arrage for three make up lectures for the class. Please indicate which of the following times work. You can use ~~~strikethrough~~~ to cross out dates that do not work, and **boldface** for preferred times. \n",
    "\n",
    "*~~Wednesday, April 11: 4:10pm - 5:30pm~~\n",
    "* ~~Wednesday, April 25: 4:10pm - 5:30pm~~\n",
    "* ~~Wednesday, May 9: 4:10pm - 5:30pm~~\n",
    "* ~~Wednesday, May 16: 4:10pm - 5:30pm~~\n",
    "* ~~Wednesday, May 23: 4:10pm - 5:30pm~~\n",
    "* **Monday, April 23: 4:10pm - 5:30pm**\n",
    "* **Friday, April 25: 4:10pm - 5:30pm**  \n",
    "    \n",
    "* ~~Wednesday, April 11: 5:30pm - 7:00pm~~\n",
    "* ~~Wednesday, April 25: 5:30pm - 7:00pm~~\n",
    "* ~~Wednesday, May 9: 5:30pm - 7:00pm~~\n",
    "* ~~Wednesday, May 16: 5:30pm - 7:00pm~~\n",
    "* ~~Wednesday, May 23: 5:30pm - 7:00pm~~  \n",
    "    \n",
    "*** Wednesday, April 11: 7:00 - 8pm (no break, shorter demo)**\n",
    "* **Wednesday, April 25: 7:00 - 8pm (no break, shorter demo)**\n",
    "* **Wednesday, May 9: 7:00 - 8pm (no break, shorter demo)**\n",
    "* **Wednesday, May 16: 7:00 - 8pm (no break, shorter demo)**\n",
    "* **Wednesday, May 23: 7:00 - 8pm (no break, shorter demo)**\n",
    "\n",
    "We'll pick 3 days that work best for everyone.\n",
    "\n",
    "\n",
    "As a reminder, there will be no lectures on: Tue April 17, Tue May 1, and (probably) Thursday May 3."
   ]
  },
  {
   "cell_type": "markdown",
   "metadata": {},
   "source": [
    "## Submitting this homework\n",
    "\n",
    "Save this file (`contrl+s` or from the menu: `File` > `Save and Checkpoint`). Upload it to your GitHub repository for this homework (the one that was created in **Problem 2**). "
   ]
  },
  {
   "cell_type": "markdown",
   "metadata": {},
   "source": [
    "## X.1 Extra Credit: Bug Bounty\n",
    "\n",
    "Every homework assignment comes with a *bug bounty*. You will get extra credit for pointing out errors in the homework. You can send these by e-mail to flip.tanedo@ucr.edu. (No extra credit for spelling/grammar mistakes, only coding/physics mistakes!)"
   ]
  },
  {
   "cell_type": "markdown",
   "metadata": {},
   "source": [
    "## X.2 Extra Credit: Come and say hello!\n",
    "Swing my Prof. Tanedo's office to say hello. It'll help him learn names.\n",
    "\n",
    "*Catching Prof. Tanedo is a little like catching a Articuno in the wild... legends say you can find him most days at around 10:30am in his office, Physics 3054...*"
   ]
  }
 ],
 "metadata": {
  "kernelspec": {
   "display_name": "Python 3",
   "language": "python",
   "name": "python3"
  },
  "language_info": {
   "codemirror_mode": {
    "name": "ipython",
    "version": 3
   },
   "file_extension": ".py",
   "mimetype": "text/x-python",
   "name": "python",
   "nbconvert_exporter": "python",
   "pygments_lexer": "ipython3",
   "version": "3.6.3"
  }
 },
 "nbformat": 4,
 "nbformat_minor": 2
}
